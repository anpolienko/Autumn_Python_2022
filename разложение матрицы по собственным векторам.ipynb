{
 "cells": [
  {
   "cell_type": "markdown",
   "id": "80fbb0a7",
   "metadata": {},
   "source": [
    "# Собственные значения и собственные вектора\n",
    "\n",
    "Ненулевой вектор $v$ называется собственным вектором квадратной $n \\times n$ матрицы $A$, если выполняется равенство $Av = \\lambda v$, где $\\lambda$ $-$ скаляр, называемый собственным значением матрицы $A$, соответствующим собственному вектору $v$.\n",
    "\n",
    "Рассматриваемое выше равенство можно записать в виде однородной системы линейных уравнений $(A - \\lambda E)v = 0$. Оно имеет нетривиальное решение только при $\\vert A - \\lambda E \\vert = 0$ $-$ характеристическое уравнение матрицы. \n",
    "\n",
    "Это уравнение имеет ровно n корней (с учётом кратности): $(\\lambda - \\lambda_1)^{n_1} (\\lambda - \\lambda_2)^{n_2} \\dots (\\lambda - \\lambda_m)^{n_m}$, где $n_1 + \\dots n_m = n$\n",
    "\n",
    "Для каждого собственного значения $\\lambda_i$ решается отдельно уравнение на собственные векторы: $(A - \\lambda_i E)v = 0$\n",
    "\n",
    "Количество собственных векторов для собственного значения кратности $n_i$ $-$ $m_i$, при этом $m_i \\leq n_i$."
   ]
  },
  {
   "cell_type": "markdown",
   "id": "8a907cb4",
   "metadata": {},
   "source": [
    "Рассмотрим матрицу $A = \\begin{pmatrix} 3 & -0.5 & -2\\\\ 0 & 2 & 0\\\\ 0 & 0 & 1 \\end{pmatrix}$. \n",
    "\n",
    "Найдём её собственные значения: $\\begin{vmatrix} 3 - \\lambda & -0.5 & -2\\\\ 0 & 2 - \\lambda & 0\\\\ 0 & 0 & 1 - \\lambda \\end{vmatrix} = (3 - \\lambda)(2 - \\lambda)(1 - \\lambda)$.\n",
    "\n",
    "Таким образом, получаем, что $\\lambda_1 = 3, \\lambda_2 = 2, \\lambda_1 = 1$\n",
    "\n",
    "Решая уравнения $(A - \\lambda_i E)v = 0$ находим собственные векторы $v_1 = \\begin{pmatrix} 1 \\\\ 0 \\\\ 0 \\end{pmatrix}, v_2 = \\begin{pmatrix} 1 \\\\ 2 \\\\ 0 \\end{pmatrix}, v_3 = \\begin{pmatrix} 1 \\\\ 0 \\\\ 1 \\end{pmatrix}$"
   ]
  },
  {
   "cell_type": "code",
   "execution_count": 18,
   "id": "8552f6c7",
   "metadata": {},
   "outputs": [],
   "source": [
    "import numpy as np"
   ]
  },
  {
   "cell_type": "code",
   "execution_count": 39,
   "id": "b3014257",
   "metadata": {
    "scrolled": true
   },
   "outputs": [
    {
     "name": "stdout",
     "output_type": "stream",
     "text": [
      "Собственные значения:\n",
      "[3. 2. 1.]\n",
      "Собственные векторы:\n",
      "[[1.         0.4472136  0.70710678]\n",
      " [0.         0.89442719 0.        ]\n",
      " [0.         0.         0.70710678]]\n"
     ]
    }
   ],
   "source": [
    "A = np.array([[3., -0.5, -2], [0., 2., 0.], [0., 0., 1.]])\n",
    "values, vectors = np.linalg.eig(A)\n",
    "print('Собственные значения:')\n",
    "print(values)\n",
    "print(\"Собственные векторы:\")\n",
    "print(vectors)"
   ]
  },
  {
   "cell_type": "markdown",
   "id": "b9415770",
   "metadata": {},
   "source": [
    "# Разложение матрицы по собственным векторам\n",
    "\n",
    "<img src = \"https://sun9-west.userapi.com/sun9-6/s/v1/ig2/I88rtetLmAxRj1GOx3M0f-pF5GDV-6CHhmaRhx4SZ1GrVrWu05tZ5lEVg0b-OZpGMu28JpAw2n47ViOZAs41KCbO.jpg?size=1387x457&quality=95&type=album\">\n",
    "\n",
    "Пусть дана матрица $A$ $-$ квадратная порядка $n$ и существует $n$ линейно независимых собственных векторов. Тогда матрица A представима в виде произведения трёх матриц $S \\Lambda S^{-1}$, где $S$ $-$ матрица, где в качестве столбцов представлены собственные вектора матрицы $A$, $\\Lambda$ $-$ диагональная матрица с соответствующими собственными значениями.\n",
    "\n",
    "Пусть $\\lambda_1, \\dots, \\lambda_n$ $-$ собственные значения матрицы $A$, а $v_1, \\dots, v_n$ $-$ соответствующие линейно независимые собственные вектора.\n",
    "\n",
    "Тогда $S = \\begin{bmatrix} v_1 & v_2 & \\cdots & v_n \\end{bmatrix} = \\begin{bmatrix} v_{11} & v_{21} & \\cdots & v_{n1} \\\\ v_{12} & v_{22} & \\cdots & v_{n2} \\\\ \\vdots & \\vdots & \\ddots & \\vdots \\\\ v_{1n} & v_{2n} & \\cdots & v_{nn} \\end{bmatrix} $\n",
    "\n",
    "Тогда $AS = A \\begin{bmatrix} v_1 & v_2 & \\cdots & v_n \\end{bmatrix} = \\begin{bmatrix} Av_1 & Av_2 & \\cdots & Av_n \\end{bmatrix} = \\begin{bmatrix} \\lambda_1 v_1 & \\lambda_2 v_2 & \\cdots & \\lambda_n v_n \\end{bmatrix} = \\begin{bmatrix} \\lambda_1 v_{11} & \\lambda_2 v_{21} & \\cdots & \\lambda_n v_{n1} \\\\ \\lambda_1 v_{12} & \\lambda_2 v_{22} & \\cdots & \\lambda_n v_{n2} \\\\ \\vdots & \\vdots & \\ddots & \\vdots \\\\ \\lambda_1 v_{1n} & \\lambda_2 v_{2n} & \\cdots & \\lambda_n v_{nn} \\end{bmatrix} = \\begin{bmatrix} v_{11} & v_{21} & \\cdots & v_{n1} \\\\ v_{12} & v_{22} & \\cdots & v_{n2} \\\\ \\vdots & \\vdots & \\ddots & \\vdots \\\\ v_{1n} & v_{2n} & \\cdots & v_{nn} \\end{bmatrix} \\begin{bmatrix} \\lambda_1 & 0 & \\cdots & 0 \\\\ 0 & \\lambda_2 & \\cdots & 0 \\\\ \\vdots & \\vdots & \\ddots & \\vdots \\\\ 0 & 0 & \\cdots & \\lambda_n \\end{bmatrix} = S \\Lambda$\n",
    "\n",
    "Таким образом, $A = S \\Lambda S^{-1}$\n",
    "\n",
    "*Замечание:* Если $A$ $-$ симметрическая, то $S$ $-$ ортогональная."
   ]
  },
  {
   "cell_type": "code",
   "execution_count": 51,
   "id": "79f6c02f",
   "metadata": {},
   "outputs": [],
   "source": [
    "def spectral_decomposition(X):\n",
    "    values, S = np.linalg.eig(X)\n",
    "    return S, np.diag(values), np.linalg.inv(S)"
   ]
  },
  {
   "cell_type": "code",
   "execution_count": 52,
   "id": "2db02342",
   "metadata": {},
   "outputs": [
    {
     "name": "stdout",
     "output_type": "stream",
     "text": [
      "S:\n",
      "[[1.         0.4472136  0.70710678]\n",
      " [0.         0.89442719 0.        ]\n",
      " [0.         0.         0.70710678]]\n",
      "L:\n",
      "[[3. 0. 0.]\n",
      " [0. 2. 0.]\n",
      " [0. 0. 1.]]\n",
      "S_1:\n",
      "[[ 1.         -0.5        -1.        ]\n",
      " [ 0.          1.11803399  0.        ]\n",
      " [ 0.          0.          1.41421356]]\n"
     ]
    }
   ],
   "source": [
    "S, L, S_1 = spectral_decomposition(A)\n",
    "print(\"S:\", S, sep = \"\\n\")\n",
    "print(\"L:\", L, sep = \"\\n\")\n",
    "print(\"S_1:\", S_1, sep = \"\\n\")"
   ]
  },
  {
   "cell_type": "code",
   "execution_count": 53,
   "id": "ace76ef6",
   "metadata": {},
   "outputs": [
    {
     "name": "stdout",
     "output_type": "stream",
     "text": [
      "[[ 3.  -0.5 -2. ]\n",
      " [ 0.   2.   0. ]\n",
      " [ 0.   0.   1. ]]\n"
     ]
    }
   ],
   "source": [
    "print(S.dot(L).dot(S_1))"
   ]
  },
  {
   "cell_type": "markdown",
   "id": "6951b46c",
   "metadata": {},
   "source": [
    "# Зачем это нужно?\n",
    "\n",
    "Рассмотрим $A^2 = (S \\Lambda S^{-1})^2 = (S \\Lambda S^{-1})(S \\Lambda S^{-1}) = S \\Lambda S^{-1} (S^{-1} S) \\Lambda S^{-1} = S \\Lambda^2 S^{-1}$\n",
    "\n",
    "Таким образом по индукции получаем, что $A^n = S \\Lambda^n S^{-1}$, где $\\Lambda^n = \\begin{bmatrix} \\lambda_1^n & 0 & \\cdots & 0 \\\\ 0 & \\lambda_2^n & \\cdots & 0 \\\\ \\vdots & \\vdots & \\ddots & \\vdots \\\\ 0 & 0 & \\cdots & \\lambda_k^n \\end{bmatrix}$\n",
    "\n",
    "Если ни одно из собственных значений не равно нулю, то $A^{-1} = (S \\Lambda S^{-1})^{-1} = S \\Lambda^{-1} S^{-1}$, где $\\Lambda^{-1} = \\begin{bmatrix} \\lambda_1^{-1} & 0 & \\cdots & 0 \\\\ 0 & \\lambda_2^{-1} & \\cdots & 0 \\\\ \\vdots & \\vdots & \\ddots & \\vdots \\\\ 0 & 0 & \\cdots & \\lambda_k^{-1} \\end{bmatrix}$\n",
    "\n",
    "Также с помощью спектрального разложения можно получить матричную экспоненту: \n",
    "\n",
    "$e^A = \\sum\\limits_{n=0}^{\\infty} \\frac{A^n}{n!} = \\sum\\limits_{n=0}^{\\infty} \\frac{S \\Lambda^n S^{-1}}{n!} = S (\\sum\\limits_{n=0}^{\\infty} \\frac{\\Lambda^n}{n!}) S^{-1} = S e^D S^{-1}$,\n",
    "\n",
    "где $e^D = \\sum\\limits_{n=0}^{\\infty} \\frac{D^n}{n!} = \\sum\\limits_{n=0}^{\\infty} \\frac{1}{n!} \\begin{bmatrix} \\lambda_1^n & 0 & \\cdots & 0 \\\\ 0 & \\lambda_2^n & \\cdots & 0 \\\\ \\vdots & \\vdots & \\ddots & \\vdots \\\\ 0 & 0 & \\cdots & \\lambda_n^n \\end{bmatrix} = \\begin{bmatrix} \\sum\\limits_{n=0}^{\\infty} \\frac{\\lambda_1^n}{n!} & 0 & \\cdots & 0 \\\\ 0 & \\sum\\limits_{n=0}^{\\infty} \\frac{\\lambda_2^n}{n!} & \\cdots & 0 \\\\ \\vdots & \\vdots & \\ddots & \\vdots \\\\ 0 & 0 & \\cdots & \\sum\\limits_{n=0}^{\\infty} \\frac{\\lambda_k^n}{n!} \\end{bmatrix} = \\begin{bmatrix} e^{\\lambda_1^n} & 0 & \\cdots & 0 \\\\ 0 & e^{\\lambda_2^n} & \\cdots & 0 \\\\ \\vdots & \\vdots & \\ddots & \\vdots \\\\ 0 & 0 & \\cdots & e^{\\lambda_n^n} \\end{bmatrix}$"
   ]
  },
  {
   "cell_type": "code",
   "execution_count": 62,
   "id": "3d5142b2",
   "metadata": {},
   "outputs": [
    {
     "name": "stdout",
     "output_type": "stream",
     "text": [
      "[[ 7.17897988e+23 -3.58948993e+23 -7.17897988e+23]\n",
      " [ 0.00000000e+00  1.12589991e+15  0.00000000e+00]\n",
      " [ 0.00000000e+00  0.00000000e+00  1.00000000e+00]]\n",
      "\n",
      "[[ 7.17897988e+23 -3.58948993e+23 -7.17897988e+23]\n",
      " [ 0.00000000e+00  1.12589991e+15  0.00000000e+00]\n",
      " [ 0.00000000e+00  0.00000000e+00  1.00000000e+00]]\n"
     ]
    }
   ],
   "source": [
    "print(np.linalg.matrix_power(A, 50))\n",
    "print()\n",
    "print(S.dot(L ** 50).dot(S_1))"
   ]
  },
  {
   "cell_type": "code",
   "execution_count": 64,
   "id": "48a19ba3",
   "metadata": {},
   "outputs": [
    {
     "name": "stdout",
     "output_type": "stream",
     "text": [
      "[[0.33333333 0.08333333 0.66666667]\n",
      " [0.         0.5        0.        ]\n",
      " [0.         0.         1.        ]]\n",
      "\n",
      "[[0.33333333 0.08333333 0.66666667]\n",
      " [0.         0.5        0.        ]\n",
      " [0.         0.         1.        ]]\n"
     ]
    }
   ],
   "source": [
    "print(np.linalg.inv(A))\n",
    "print()\n",
    "print(S.dot(np.diag(np.diagonal(L) ** (-1))).dot(S_1))"
   ]
  },
  {
   "cell_type": "code",
   "execution_count": 70,
   "id": "cf0e91c6",
   "metadata": {},
   "outputs": [
    {
     "name": "stdout",
     "output_type": "stream",
     "text": [
      "[[ 20.08553692  -6.34824041 -17.36725509]\n",
      " [  0.           7.3890561    0.        ]\n",
      " [  0.           0.           2.71828183]]\n",
      "\n",
      "[[ 20.08553692  -6.34824041 -17.36725509]\n",
      " [  0.           7.3890561    0.        ]\n",
      " [  0.           0.           2.71828183]]\n"
     ]
    }
   ],
   "source": [
    "from scipy.linalg import expm\n",
    "\n",
    "print(expm(A))\n",
    "print()\n",
    "print(S.dot(np.diag(np.exp(np.diagonal(L)))).dot(S_1))"
   ]
  }
 ],
 "metadata": {
  "kernelspec": {
   "display_name": "Python 3",
   "language": "python",
   "name": "python3"
  },
  "language_info": {
   "codemirror_mode": {
    "name": "ipython",
    "version": 3
   },
   "file_extension": ".py",
   "mimetype": "text/x-python",
   "name": "python",
   "nbconvert_exporter": "python",
   "pygments_lexer": "ipython3",
   "version": "3.8.8"
  }
 },
 "nbformat": 4,
 "nbformat_minor": 5
}
